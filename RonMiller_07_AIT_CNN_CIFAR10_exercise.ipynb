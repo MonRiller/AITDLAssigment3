{
  "nbformat": 4,
  "nbformat_minor": 0,
  "metadata": {
    "anaconda-cloud": {},
    "kernelspec": {
      "display_name": "Python 3",
      "name": "python3"
    },
    "language_info": {
      "codemirror_mode": {
        "name": "ipython",
        "version": 3
      },
      "file_extension": ".py",
      "mimetype": "text/x-python",
      "name": "python",
      "nbconvert_exporter": "python",
      "pygments_lexer": "ipython3",
      "version": "3.6.6"
    },
    "colab": {
      "provenance": [],
      "gpuType": "T4",
      "include_colab_link": true
    },
    "accelerator": "GPU"
  },
  "cells": [
    {
      "cell_type": "markdown",
      "metadata": {
        "id": "view-in-github",
        "colab_type": "text"
      },
      "source": [
        "<a href=\"https://colab.research.google.com/github/MonRiller/AITDLAssigment3/blob/main/RonMiller_07_AIT_CNN_CIFAR10_exercise.ipynb\" target=\"_parent\"><img src=\"https://colab.research.google.com/assets/colab-badge.svg\" alt=\"Open In Colab\"/></a>"
      ]
    },
    {
      "cell_type": "markdown",
      "metadata": {
        "id": "cW-EyI5Lxpqi"
      },
      "source": [
        "# Copyright\n",
        "\n",
        "<PRE>\n",
        "Copyright (c) 2024 Bálint Gyires-Tóth - All Rights Reserved\n",
        "You may use and modify this code for research and development purpuses.\n",
        "Using this code for educational purposes (self-paced or instructor led) without the permission of the author is prohibited.\n",
        "</PRE>"
      ]
    },
    {
      "cell_type": "markdown",
      "source": [
        "# Convolutional Neural Network exercise\n",
        "\n",
        "In this notebook, you will build a convolutional neural network, which offers superior results over the previous MLP solution. Additionally, you will perform a more detailed evaluation."
      ],
      "metadata": {
        "id": "3EX4cCa4WKJu"
      }
    },
    {
      "cell_type": "code",
      "source": [
        "# imports\n",
        "from tensorflow.keras.datasets import cifar10\n",
        "from tensorflow.keras.utils import to_categorical\n",
        "import numpy as np\n",
        "import matplotlib.pyplot as plt\n",
        "from tensorflow.keras.models import Sequential\n",
        "from tensorflow.keras.layers import Dense, Conv2D, MaxPool2D, Flatten, Dropout, LayerNormalization\n",
        "from tensorflow.keras.initializers import HeNormal\n",
        "from tensorflow.keras.callbacks import EarlyStopping"
      ],
      "metadata": {
        "id": "GdCMhy4HA2qd"
      },
      "execution_count": null,
      "outputs": []
    },
    {
      "cell_type": "markdown",
      "source": [
        "# 1. Data\n",
        "The dataset we will use is the well-known CIFAR10 (Canadian Institute For Advanced Research). Explore the details on the Keras website first: https://keras.io/api/datasets/cifar10/\n",
        "\n",
        "There isn't much difference between the data preprocessing part and the one we did before. The only difference is that we don't have to reshape images into vectors, but we are working with a 4 dimensional data structure, where the dimensions are: batch, X, Y, and color channels.\n",
        "\n",
        "In the event that anything is not clear regarding the data preparation part, please check the previous CIFAR10 notebook."
      ],
      "metadata": {
        "id": "yY9fztIeWIKt"
      }
    },
    {
      "cell_type": "code",
      "source": [
        "(X_train, Y_train), (X_test, Y_test) = cifar10.load_data()"
      ],
      "metadata": {
        "id": "bez7q0eiWQCK",
        "colab": {
          "base_uri": "https://localhost:8080/"
        },
        "outputId": "b3c10862-4996-4ae4-b43b-ad5785692b28"
      },
      "execution_count": null,
      "outputs": [
        {
          "output_type": "stream",
          "name": "stdout",
          "text": [
            "Downloading data from https://www.cs.toronto.edu/~kriz/cifar-10-python.tar.gz\n",
            "170498071/170498071 [==============================] - 7s 0us/step\n"
          ]
        }
      ]
    },
    {
      "cell_type": "code",
      "source": [
        "# it is in int8 format, the neural network requires float32\n",
        "X_train = X_train.astype(\"float32\")\n",
        "X_test = X_test.astype(\"float32\")"
      ],
      "metadata": {
        "id": "vukOcBM0XzSj"
      },
      "execution_count": null,
      "outputs": []
    },
    {
      "cell_type": "code",
      "source": [
        "train_ratio  = 0.8\n",
        "train_length = X_train.shape[0]\n",
        "train_split  = int(train_ratio*train_length)\n",
        "X_valid, Y_valid = X_train[train_split:], Y_train[train_split:]\n",
        "X_train, Y_train = X_train[:train_split], Y_train[:train_split]"
      ],
      "metadata": {
        "id": "mRwuWxxIxLgN"
      },
      "execution_count": null,
      "outputs": []
    },
    {
      "cell_type": "code",
      "source": [
        "mean = X_train.mean(axis=0)\n",
        "std  = X_train.std(axis=0)\n",
        "\n",
        "X_train = (X_train-mean)/std\n",
        "X_valid = (X_valid-mean)/std\n",
        "X_test  = (X_test-mean)/std"
      ],
      "metadata": {
        "id": "2ESLP1EIyB2J"
      },
      "execution_count": null,
      "outputs": []
    },
    {
      "cell_type": "code",
      "source": [
        "nb_classes = len(np.unique(Y_train))\n",
        "Y_train = to_categorical(Y_train, nb_classes)\n",
        "Y_valid = to_categorical(Y_valid, nb_classes)\n",
        "Y_test  = to_categorical(Y_test, nb_classes)"
      ],
      "metadata": {
        "id": "xwZ4OJ6I8lba"
      },
      "execution_count": null,
      "outputs": []
    },
    {
      "cell_type": "code",
      "source": [
        "print(\"Shapes of the training, validation and test input data:\", X_train.shape, X_valid.shape, X_test.shape)\n",
        "print(\"Shapes of the training, validation and test output data:\", Y_train.shape, Y_valid.shape, Y_test.shape)\n",
        "print(\"Mean values of the training, validation and test input data:\", X_train.mean(), X_valid.mean(), X_test.mean())\n",
        "print(\"Standard deviation of the training, validation and test input data:\", X_train.std(), X_valid.std(), X_test.std())"
      ],
      "metadata": {
        "id": "O_jdJVcvX0vi",
        "colab": {
          "base_uri": "https://localhost:8080/"
        },
        "outputId": "26fa2589-8dfc-4af7-d722-5e013cfff67c"
      },
      "execution_count": null,
      "outputs": [
        {
          "output_type": "stream",
          "name": "stdout",
          "text": [
            "Shapes of the training, validation and test input data: (40000, 32, 32, 3) (10000, 32, 32, 3) (10000, 32, 32, 3)\n",
            "Shapes of the training, validation and test output data: (40000, 10) (10000, 10) (10000, 10)\n",
            "Mean values of the training, validation and test input data: 2.2788842e-09 0.0023437198 0.013331206\n",
            "Standard deviation of the training, validation and test input data: 1.0000023 0.9965626 0.99783075\n"
          ]
        }
      ]
    },
    {
      "cell_type": "markdown",
      "metadata": {
        "id": "cJ14oyZExpqj"
      },
      "source": [
        "# 2. Exercise: training"
      ]
    },
    {
      "cell_type": "markdown",
      "source": [
        "Create and train a convolutional neural network with the following requirements:\n",
        "* apply early stopping with patience=5 and monitor the validation accuracy, don't forget to load back the best weights after early stopping\n",
        "* the number of trainable parameters is lower than 200.000\n",
        "* the validation accuracy must be higher than 72%\n",
        "\n",
        "Hints:\n",
        "* you can always inspect the number of trainable parameters per layer with model.summary()\n",
        "* usually the most trainable parameters are between the last convolutional layer and the next dense layer -- so you should have a reasonable output size at the last convolutional layer\n",
        "* regularization helps (e.g. DropOut and/or BatchNormalization)\n",
        "* use the right activation function at the output layer and the corresponding loss function\n",
        "* for the chosen activation functions, please use the appropriate initialization method\n",
        "* you can match the dimension of the last conv/pooling layer to the next dense layer with e.g. Flatten()\n",
        "* ADAM optimizer is a reasonable choice\n",
        "* don't forget to turn on GPU support in Colab, otherwise, it would be quite slow to train the networks\n",
        "\n"
      ],
      "metadata": {
        "id": "j1tGVPdD-pp3"
      }
    },
    {
      "cell_type": "code",
      "source": [
        "es = EarlyStopping(monitor='val_accuracy', patience = 5, restore_best_weights=True)"
      ],
      "metadata": {
        "id": "5dBQxJHIHrbd"
      },
      "execution_count": null,
      "outputs": []
    },
    {
      "cell_type": "code",
      "source": [
        "# model definition\n",
        "model = Sequential()\n",
        "model.add(Conv2D(32, (5, 5), input_shape=(32, 32, 3), activation='relu', kernel_initializer=HeNormal()))\n",
        "model.add(MaxPool2D(pool_size=(2, 2)))\n",
        "model.add(Conv2D(32, (5, 5), activation='relu', kernel_initializer=HeNormal()))\n",
        "model.add(MaxPool2D(pool_size=(2, 2)))\n",
        "model.add(Flatten())\n",
        "model.add(Dropout(0.3))\n",
        "model.add(Dense(128, activation='relu', kernel_initializer=HeNormal()))\n",
        "model.add(Dropout(0.3))\n",
        "model.add(LayerNormalization())\n",
        "\n",
        "model.add(Dense(nb_classes, activation='softmax', kernel_initializer=HeNormal()))\n",
        "\n",
        "# loss function and optimizer\n",
        "model.compile(optimizer='adam', loss='categorical_crossentropy', metrics=['accuracy'])"
      ],
      "metadata": {
        "id": "PuxHOqLt-3Nd"
      },
      "execution_count": null,
      "outputs": []
    },
    {
      "cell_type": "code",
      "source": [
        "model.summary()"
      ],
      "metadata": {
        "id": "5eomQw8uE9Ix",
        "colab": {
          "base_uri": "https://localhost:8080/"
        },
        "outputId": "902f65f5-606f-4c3a-8964-2435ce7aa6bb"
      },
      "execution_count": null,
      "outputs": [
        {
          "output_type": "stream",
          "name": "stdout",
          "text": [
            "Model: \"sequential_19\"\n",
            "_________________________________________________________________\n",
            " Layer (type)                Output Shape              Param #   \n",
            "=================================================================\n",
            " conv2d_38 (Conv2D)          (None, 28, 28, 32)        2432      \n",
            "                                                                 \n",
            " max_pooling2d_34 (MaxPooli  (None, 14, 14, 32)        0         \n",
            " ng2D)                                                           \n",
            "                                                                 \n",
            " conv2d_39 (Conv2D)          (None, 10, 10, 32)        25632     \n",
            "                                                                 \n",
            " max_pooling2d_35 (MaxPooli  (None, 5, 5, 32)          0         \n",
            " ng2D)                                                           \n",
            "                                                                 \n",
            " flatten_18 (Flatten)        (None, 800)               0         \n",
            "                                                                 \n",
            " dropout_37 (Dropout)        (None, 800)               0         \n",
            "                                                                 \n",
            " dense_39 (Dense)            (None, 128)               102528    \n",
            "                                                                 \n",
            " dropout_38 (Dropout)        (None, 128)               0         \n",
            "                                                                 \n",
            " layer_normalization_14 (La  (None, 128)               256       \n",
            " yerNormalization)                                               \n",
            "                                                                 \n",
            " dense_40 (Dense)            (None, 10)                1290      \n",
            "                                                                 \n",
            "=================================================================\n",
            "Total params: 132138 (516.16 KB)\n",
            "Trainable params: 132138 (516.16 KB)\n",
            "Non-trainable params: 0 (0.00 Byte)\n",
            "_________________________________________________________________\n"
          ]
        }
      ]
    },
    {
      "cell_type": "markdown",
      "source": [
        "Please, check the number of trainable paramers:"
      ],
      "metadata": {
        "id": "8tIbIIeTEI41"
      }
    },
    {
      "cell_type": "code",
      "source": [
        "print(\"#trainable parameters:\",model.count_params())"
      ],
      "metadata": {
        "id": "xdBAG7EJETlX",
        "colab": {
          "base_uri": "https://localhost:8080/"
        },
        "outputId": "33a86956-bfe3-495f-d5b1-7d723191541e"
      },
      "execution_count": null,
      "outputs": [
        {
          "output_type": "stream",
          "name": "stdout",
          "text": [
            "#trainable parameters: 132138\n"
          ]
        }
      ]
    },
    {
      "cell_type": "code",
      "source": [
        "# training\n",
        "network_history = model.fit(X_train, Y_train, batch_size=32, epochs=1000, validation_data=(X_valid, Y_valid), callbacks=[es])"
      ],
      "metadata": {
        "id": "u8tFNCNVHyt9",
        "colab": {
          "base_uri": "https://localhost:8080/"
        },
        "outputId": "888dbb8e-ca09-4fa7-a2e1-5a92794fea9d"
      },
      "execution_count": null,
      "outputs": [
        {
          "output_type": "stream",
          "name": "stdout",
          "text": [
            "Epoch 1/1000\n",
            "1250/1250 [==============================] - 8s 5ms/step - loss: 1.6524 - accuracy: 0.3991 - val_loss: 1.2779 - val_accuracy: 0.5486\n",
            "Epoch 2/1000\n",
            "1250/1250 [==============================] - 7s 5ms/step - loss: 1.2960 - accuracy: 0.5332 - val_loss: 1.1295 - val_accuracy: 0.6048\n",
            "Epoch 3/1000\n",
            "1250/1250 [==============================] - 6s 5ms/step - loss: 1.1677 - accuracy: 0.5824 - val_loss: 1.0648 - val_accuracy: 0.6290\n",
            "Epoch 4/1000\n",
            "1250/1250 [==============================] - 6s 5ms/step - loss: 1.0824 - accuracy: 0.6119 - val_loss: 0.9837 - val_accuracy: 0.6517\n",
            "Epoch 5/1000\n",
            "1250/1250 [==============================] - 6s 5ms/step - loss: 1.0228 - accuracy: 0.6391 - val_loss: 0.9607 - val_accuracy: 0.6633\n",
            "Epoch 6/1000\n",
            "1250/1250 [==============================] - 7s 5ms/step - loss: 0.9745 - accuracy: 0.6532 - val_loss: 0.8898 - val_accuracy: 0.6826\n",
            "Epoch 7/1000\n",
            "1250/1250 [==============================] - 6s 5ms/step - loss: 0.9397 - accuracy: 0.6676 - val_loss: 0.8799 - val_accuracy: 0.6908\n",
            "Epoch 8/1000\n",
            "1250/1250 [==============================] - 6s 5ms/step - loss: 0.9061 - accuracy: 0.6791 - val_loss: 0.8580 - val_accuracy: 0.6991\n",
            "Epoch 9/1000\n",
            "1250/1250 [==============================] - 6s 5ms/step - loss: 0.8771 - accuracy: 0.6907 - val_loss: 0.8411 - val_accuracy: 0.7122\n",
            "Epoch 10/1000\n",
            "1250/1250 [==============================] - 7s 5ms/step - loss: 0.8501 - accuracy: 0.7005 - val_loss: 0.8165 - val_accuracy: 0.7204\n",
            "Epoch 11/1000\n",
            "1250/1250 [==============================] - 7s 5ms/step - loss: 0.8237 - accuracy: 0.7097 - val_loss: 0.8504 - val_accuracy: 0.7088\n",
            "Epoch 12/1000\n",
            "1250/1250 [==============================] - 6s 5ms/step - loss: 0.8090 - accuracy: 0.7168 - val_loss: 0.8247 - val_accuracy: 0.7223\n",
            "Epoch 13/1000\n",
            "1250/1250 [==============================] - 7s 5ms/step - loss: 0.7900 - accuracy: 0.7189 - val_loss: 0.8130 - val_accuracy: 0.7216\n",
            "Epoch 14/1000\n",
            "1250/1250 [==============================] - 6s 5ms/step - loss: 0.7737 - accuracy: 0.7261 - val_loss: 0.7896 - val_accuracy: 0.7309\n",
            "Epoch 15/1000\n",
            "1250/1250 [==============================] - 7s 6ms/step - loss: 0.7571 - accuracy: 0.7286 - val_loss: 0.8082 - val_accuracy: 0.7307\n",
            "Epoch 16/1000\n",
            "1250/1250 [==============================] - 6s 5ms/step - loss: 0.7457 - accuracy: 0.7371 - val_loss: 0.7742 - val_accuracy: 0.7379\n",
            "Epoch 17/1000\n",
            "1250/1250 [==============================] - 7s 6ms/step - loss: 0.7304 - accuracy: 0.7431 - val_loss: 0.8083 - val_accuracy: 0.7296\n",
            "Epoch 18/1000\n",
            "1250/1250 [==============================] - 6s 5ms/step - loss: 0.7172 - accuracy: 0.7455 - val_loss: 0.8059 - val_accuracy: 0.7298\n",
            "Epoch 19/1000\n",
            "1250/1250 [==============================] - 7s 5ms/step - loss: 0.7048 - accuracy: 0.7500 - val_loss: 0.8137 - val_accuracy: 0.7273\n",
            "Epoch 20/1000\n",
            "1250/1250 [==============================] - 6s 5ms/step - loss: 0.6987 - accuracy: 0.7506 - val_loss: 0.7732 - val_accuracy: 0.7407\n",
            "Epoch 21/1000\n",
            "1250/1250 [==============================] - 6s 5ms/step - loss: 0.6913 - accuracy: 0.7552 - val_loss: 0.8153 - val_accuracy: 0.7309\n",
            "Epoch 22/1000\n",
            "1250/1250 [==============================] - 6s 5ms/step - loss: 0.6831 - accuracy: 0.7563 - val_loss: 0.7856 - val_accuracy: 0.7424\n",
            "Epoch 23/1000\n",
            "1250/1250 [==============================] - 7s 5ms/step - loss: 0.6657 - accuracy: 0.7651 - val_loss: 0.7791 - val_accuracy: 0.7441\n",
            "Epoch 24/1000\n",
            "1250/1250 [==============================] - 6s 5ms/step - loss: 0.6605 - accuracy: 0.7679 - val_loss: 0.8047 - val_accuracy: 0.7430\n",
            "Epoch 25/1000\n",
            "1250/1250 [==============================] - 7s 6ms/step - loss: 0.6518 - accuracy: 0.7685 - val_loss: 0.7966 - val_accuracy: 0.7364\n",
            "Epoch 26/1000\n",
            "1250/1250 [==============================] - 6s 5ms/step - loss: 0.6441 - accuracy: 0.7691 - val_loss: 0.7696 - val_accuracy: 0.7447\n",
            "Epoch 27/1000\n",
            "1250/1250 [==============================] - 7s 5ms/step - loss: 0.6392 - accuracy: 0.7716 - val_loss: 0.7798 - val_accuracy: 0.7434\n",
            "Epoch 28/1000\n",
            "1250/1250 [==============================] - 7s 5ms/step - loss: 0.6338 - accuracy: 0.7737 - val_loss: 0.7798 - val_accuracy: 0.7411\n",
            "Epoch 29/1000\n",
            "1250/1250 [==============================] - 6s 5ms/step - loss: 0.6221 - accuracy: 0.7786 - val_loss: 0.8195 - val_accuracy: 0.7417\n",
            "Epoch 30/1000\n",
            "1250/1250 [==============================] - 7s 5ms/step - loss: 0.6210 - accuracy: 0.7784 - val_loss: 0.8201 - val_accuracy: 0.7421\n",
            "Epoch 31/1000\n",
            "1250/1250 [==============================] - 6s 5ms/step - loss: 0.6102 - accuracy: 0.7821 - val_loss: 0.7772 - val_accuracy: 0.7440\n"
          ]
        }
      ]
    },
    {
      "cell_type": "markdown",
      "source": [
        "# 3. Exercise: evaluation on test data\n",
        "You will evaluate the classification of the test data using the common metrics and the confusion matrix in this section.\n",
        "\n",
        "\n",
        "As a first stes, let's run the predictions and convert the predicted softmax outputs to dense labels. The one-hot encoded labels are also converted back to dense labels, as they are required for the evaluation functions."
      ],
      "metadata": {
        "id": "2FtKp-a2-A9m"
      }
    },
    {
      "cell_type": "code",
      "source": [
        "probas = model.predict(X_test)\n",
        "preds  = np.argmax(probas,axis=1)\n",
        "Y_test_dense = np.argmax(Y_test, axis=1) # get the original dense labels of the test data"
      ],
      "metadata": {
        "id": "EcWAqwlDMq3y",
        "colab": {
          "base_uri": "https://localhost:8080/"
        },
        "outputId": "4ba50eb5-be79-4bb2-aaae-d845bed7d0b5"
      },
      "execution_count": null,
      "outputs": [
        {
          "output_type": "stream",
          "name": "stdout",
          "text": [
            "313/313 [==============================] - 1s 4ms/step\n"
          ]
        }
      ]
    },
    {
      "cell_type": "markdown",
      "source": [
        "## 3.1. Exercise: Metrics\n",
        "please review the common classification metrics (accuracy, precision, recall, F1) for the complete model (not per class).\n",
        "\n",
        "Hints:\n",
        "* use macro averaging\n",
        "* you have to import the right functions from [sklearn.metrics](https://scikit-learn.org/stable/modules/model_evaluation.html)\n"
      ],
      "metadata": {
        "id": "RWJ-PH_iMs9K"
      }
    },
    {
      "cell_type": "code",
      "source": [
        "from sklearn.metrics import accuracy_score, precision_score, recall_score, f1_score"
      ],
      "metadata": {
        "id": "5sKm5zHSMZ_x"
      },
      "execution_count": null,
      "outputs": []
    },
    {
      "cell_type": "code",
      "source": [
        "print(\"Accuracy:\", accuracy_score(Y_test_dense, preds))\n",
        "print(\"Precision:\", precision_score(Y_test_dense, preds, average='macro'))\n",
        "print(\"Recall:\", recall_score(Y_test_dense, preds, average='macro'))\n",
        "print(\"F1:\", f1_score(Y_test_dense, preds, average='macro'))"
      ],
      "metadata": {
        "id": "I3_9wgDREUna",
        "colab": {
          "base_uri": "https://localhost:8080/"
        },
        "outputId": "84487af3-44aa-4f8e-d05b-f3e6d350ad6a"
      },
      "execution_count": null,
      "outputs": [
        {
          "output_type": "stream",
          "name": "stdout",
          "text": [
            "Accuracy: 0.7415\n",
            "Precision: 0.7412364320788077\n",
            "Recall: 0.7414999999999999\n",
            "F1: 0.7400233755584771\n"
          ]
        }
      ]
    },
    {
      "cell_type": "markdown",
      "source": [
        "\n",
        "## 3.2. Exercise: Confusion matrix\n",
        "Calculate the confusion matrix and display the results in a heatmap (with decimal values).\n",
        "\n",
        "Hints:\n",
        "* you have to do the imports this time too, e.g. from [sklearn.metrics](https://scikit-learn.org/stable/modules/model_evaluation.html) and the [heatmap function](https://seaborn.pydata.org/generated/seaborn.heatmap.html) of [seaborn](https://seaborn.pydata.org/)\n",
        "* for displaying the decimal values, you have to turn annot=True and define fmt='d' in the heatmap function of seaborn"
      ],
      "metadata": {
        "id": "ECHguBFtGL7f"
      }
    },
    {
      "cell_type": "code",
      "source": [
        "from sklearn.metrics import confusion_matrix\n",
        "import seaborn as sns"
      ],
      "metadata": {
        "id": "SIi2VzMBO3yD"
      },
      "execution_count": null,
      "outputs": []
    },
    {
      "cell_type": "code",
      "metadata": {
        "id": "cdqODx92Svw7",
        "colab": {
          "base_uri": "https://localhost:8080/",
          "height": 539
        },
        "outputId": "dc2b633b-4e89-4d81-b9bd-a1dcf22b2df8"
      },
      "source": [
        "conf = confusion_matrix(Y_test_dense, preds)\n",
        "plt.figure(figsize=(7,6))\n",
        "sns.heatmap(conf, annot=True, fmt='d')"
      ],
      "execution_count": null,
      "outputs": [
        {
          "output_type": "execute_result",
          "data": {
            "text/plain": [
              "<Axes: >"
            ]
          },
          "metadata": {},
          "execution_count": 90
        },
        {
          "output_type": "display_data",
          "data": {
            "text/plain": [
              "<Figure size 700x600 with 2 Axes>"
            ],
            "image/png": "[encoded data removed]"
          },
          "metadata": {}
        }
      ]
    },
    {
      "cell_type": "code",
      "source": [],
      "metadata": {
        "id": "_2iZklezIUpj"
      },
      "execution_count": null,
      "outputs": []
    }
  ]
}